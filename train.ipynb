{
  "nbformat": 4,
  "nbformat_minor": 0,
  "metadata": {
    "colab": {
      "name": "Untitled.ipynb",
      "version": "0.3.2",
      "provenance": [],
      "collapsed_sections": [],
      "include_colab_link": true
    },
    "language_info": {
      "codemirror_mode": {
        "name": "ipython",
        "version": 3
      },
      "file_extension": ".py",
      "mimetype": "text/x-python",
      "name": "python",
      "nbconvert_exporter": "python",
      "pygments_lexer": "ipython3",
      "version": "3.6.8"
    },
    "kernelspec": {
      "name": "python3",
      "display_name": "Python 3"
    },
    "accelerator": "GPU"
  },
  "cells": [
    {
      "cell_type": "markdown",
      "metadata": {
        "id": "view-in-github",
        "colab_type": "text"
      },
      "source": [
        "<a href=\"https://colab.research.google.com/github/piyushverma001/AI-rock-paper-scissor/blob/master/train.ipynb\" target=\"_parent\"><img src=\"https://colab.research.google.com/assets/colab-badge.svg\" alt=\"Open In Colab\"/></a>"
      ]
    },
    {
      "cell_type": "code",
      "metadata": {
        "id": "hWbkIDvKobGM",
        "colab_type": "code",
        "outputId": "9ce22e7f-0f95-4c8c-c7db-605118ea0988",
        "colab": {
          "base_uri": "https://localhost:8080/",
          "height": 54
        }
      },
      "source": [
        "from google.colab import drive\n",
        "drive.mount('/content/gdrive')"
      ],
      "execution_count": 0,
      "outputs": [
        {
          "output_type": "stream",
          "text": [
            "Drive already mounted at /content/gdrive; to attempt to forcibly remount, call drive.mount(\"/content/gdrive\", force_remount=True).\n"
          ],
          "name": "stdout"
        }
      ]
    },
    {
      "cell_type": "code",
      "metadata": {
        "id": "NF_g0rR_obGy",
        "colab_type": "code",
        "outputId": "61fef7c4-6251-436f-e92b-91c2d7a676a9",
        "colab": {
          "base_uri": "https://localhost:8080/",
          "height": 138
        }
      },
      "source": [
        "import cv2\n",
        "import os\n",
        "categories = ['rock','paper','scissor']\n",
        "directory = \"\"\"/content/gdrive/My Drive/Colab Notebooks/rock paper scissor/\"\"\"\n",
        "\n",
        "training_data=[]\n",
        "\n",
        "def create_training_data():\n",
        "    for category in categories:\n",
        "        path = directory+category\n",
        "        class_num = categories.index(category)\n",
        "        for image in os.listdir(path):\n",
        "            try:\n",
        "                img_arr = cv2.imread(os.path.join(path,image))\n",
        "                new_arr = cv2.resize(img_arr,(300,300), interpolation= cv2.INTER_AREA)\n",
        "                training_data.append([img_arr, class_num])\n",
        "            except Exception as e:\n",
        "                print(path,e)\n",
        "create_training_data()"
      ],
      "execution_count": 0,
      "outputs": [
        {
          "output_type": "stream",
          "text": [
            "/content/gdrive/My Drive/Colab Notebooks/rock paper scissor/rock OpenCV(3.4.3) /io/opencv/modules/imgproc/src/resize.cpp:4044: error: (-215:Assertion failed) !ssize.empty() in function 'resize'\n",
            "\n",
            "/content/gdrive/My Drive/Colab Notebooks/rock paper scissor/paper OpenCV(3.4.3) /io/opencv/modules/imgproc/src/resize.cpp:4044: error: (-215:Assertion failed) !ssize.empty() in function 'resize'\n",
            "\n",
            "/content/gdrive/My Drive/Colab Notebooks/rock paper scissor/scissor OpenCV(3.4.3) /io/opencv/modules/imgproc/src/resize.cpp:4044: error: (-215:Assertion failed) !ssize.empty() in function 'resize'\n",
            "\n"
          ],
          "name": "stdout"
        }
      ]
    },
    {
      "cell_type": "code",
      "metadata": {
        "scrolled": true,
        "id": "2XGkkGgSobHM",
        "colab_type": "code",
        "colab": {}
      },
      "source": [
        "training_data\n",
        "import random\n",
        "random.shuffle(training_data)"
      ],
      "execution_count": 0,
      "outputs": []
    },
    {
      "cell_type": "code",
      "metadata": {
        "id": "7mDtBiIB-teg",
        "colab_type": "code",
        "colab": {}
      },
      "source": [
        ""
      ],
      "execution_count": 0,
      "outputs": []
    },
    {
      "cell_type": "code",
      "metadata": {
        "id": "ZLFM3kVhobHc",
        "colab_type": "code",
        "colab": {}
      },
      "source": [
        "import numpy as np\n",
        "X =[]\n",
        "y =[]\n",
        "\n",
        "for features, label in training_data:\n",
        "    X.append(features)\n",
        "    y.append(label)\n",
        "X = np.array(X).reshape(-1, 215,240, 3)\n"
      ],
      "execution_count": 0,
      "outputs": []
    },
    {
      "cell_type": "code",
      "metadata": {
        "scrolled": true,
        "id": "CdJgcGl9obHn",
        "colab_type": "code",
        "outputId": "f7c1d7d5-227d-41d1-ee5b-43d68b29f71f",
        "colab": {
          "base_uri": "https://localhost:8080/",
          "height": 910
        }
      },
      "source": [
        "import tensorflow as tf\n",
        "model= tf.keras.models.Sequential([\n",
        "    tf.keras.layers.Conv2D(64, (3,3),activation='relu',input_shape=(215,240,3)),\n",
        "    tf.keras.layers.MaxPooling2D(2,2),\n",
        "    tf.keras.layers.Conv2D(64,(3,3),activation='relu'),\n",
        "    tf.keras.layers.MaxPooling2D(2,2),\n",
        "    tf.keras.layers.Conv2D(128,(3,3),activation='relu'),\n",
        "    tf.keras.layers.MaxPooling2D(2,2),\n",
        "    tf.keras.layers.Conv2D(128,(3,3),activation='relu'),\n",
        "    tf.keras.layers.MaxPooling2D(2,2),\n",
        "    tf.keras.layers.Flatten(),\n",
        "    tf.keras.layers.Dropout(0.5),\n",
        "    tf.keras.layers.Dense(512,activation='relu'),\n",
        "    tf.keras.layers.Dense(3,activation='softmax')\n",
        "])\n",
        "\n",
        "model.compile(loss='sparse_categorical_crossentropy',optimizer='adam',metrics=['accuracy'])\n",
        "X = tf.keras.utils.normalize(X, axis=1)\n",
        "model.fit(X,y,epochs=25,validation_split=0.1)"
      ],
      "execution_count": 0,
      "outputs": [
        {
          "output_type": "stream",
          "text": [
            "Train on 272 samples, validate on 31 samples\n",
            "Epoch 1/25\n",
            "272/272 [==============================] - 2s 6ms/sample - loss: 1.0750 - acc: 0.5441 - val_loss: 0.7744 - val_acc: 0.7419\n",
            "Epoch 2/25\n",
            "272/272 [==============================] - 1s 4ms/sample - loss: 0.7626 - acc: 0.7316 - val_loss: 0.5887 - val_acc: 0.7742\n",
            "Epoch 3/25\n",
            "272/272 [==============================] - 1s 4ms/sample - loss: 0.5238 - acc: 0.8382 - val_loss: 0.3372 - val_acc: 0.9032\n",
            "Epoch 4/25\n",
            "272/272 [==============================] - 1s 4ms/sample - loss: 0.2465 - acc: 0.9154 - val_loss: 0.2350 - val_acc: 0.9677\n",
            "Epoch 5/25\n",
            "272/272 [==============================] - 1s 4ms/sample - loss: 0.0996 - acc: 0.9632 - val_loss: 0.1529 - val_acc: 0.9677\n",
            "Epoch 6/25\n",
            "272/272 [==============================] - 1s 4ms/sample - loss: 0.0235 - acc: 0.9963 - val_loss: 0.0977 - val_acc: 0.9677\n",
            "Epoch 7/25\n",
            "272/272 [==============================] - 1s 4ms/sample - loss: 0.0064 - acc: 1.0000 - val_loss: 0.0373 - val_acc: 0.9677\n",
            "Epoch 8/25\n",
            "272/272 [==============================] - 1s 4ms/sample - loss: 0.0021 - acc: 1.0000 - val_loss: 0.0228 - val_acc: 1.0000\n",
            "Epoch 9/25\n",
            "272/272 [==============================] - 1s 4ms/sample - loss: 0.0022 - acc: 1.0000 - val_loss: 0.0261 - val_acc: 0.9677\n",
            "Epoch 10/25\n",
            "272/272 [==============================] - 1s 4ms/sample - loss: 0.0029 - acc: 1.0000 - val_loss: 0.0626 - val_acc: 0.9677\n",
            "Epoch 11/25\n",
            "272/272 [==============================] - 1s 4ms/sample - loss: 0.0420 - acc: 0.9743 - val_loss: 0.1326 - val_acc: 0.9677\n",
            "Epoch 12/25\n",
            "272/272 [==============================] - 1s 4ms/sample - loss: 0.0387 - acc: 0.9890 - val_loss: 0.1647 - val_acc: 0.9677\n",
            "Epoch 13/25\n",
            "272/272 [==============================] - 1s 4ms/sample - loss: 0.0756 - acc: 0.9743 - val_loss: 0.2611 - val_acc: 0.9677\n",
            "Epoch 14/25\n",
            "272/272 [==============================] - 1s 4ms/sample - loss: 0.0389 - acc: 0.9816 - val_loss: 0.3167 - val_acc: 0.9355\n",
            "Epoch 15/25\n",
            "272/272 [==============================] - 1s 4ms/sample - loss: 0.0408 - acc: 0.9816 - val_loss: 0.3790 - val_acc: 0.9032\n",
            "Epoch 16/25\n",
            "272/272 [==============================] - 1s 4ms/sample - loss: 0.0202 - acc: 0.9926 - val_loss: 0.3622 - val_acc: 0.9032\n",
            "Epoch 17/25\n",
            "272/272 [==============================] - 1s 4ms/sample - loss: 0.0087 - acc: 0.9963 - val_loss: 0.3772 - val_acc: 0.9032\n",
            "Epoch 18/25\n",
            "272/272 [==============================] - 1s 4ms/sample - loss: 0.0027 - acc: 1.0000 - val_loss: 0.3820 - val_acc: 0.9032\n",
            "Epoch 19/25\n",
            "272/272 [==============================] - 1s 4ms/sample - loss: 3.2686e-04 - acc: 1.0000 - val_loss: 0.4166 - val_acc: 0.9677\n",
            "Epoch 20/25\n",
            "272/272 [==============================] - 1s 4ms/sample - loss: 0.0018 - acc: 1.0000 - val_loss: 0.4232 - val_acc: 0.9677\n",
            "Epoch 21/25\n",
            "272/272 [==============================] - 1s 4ms/sample - loss: 0.0057 - acc: 0.9963 - val_loss: 0.4591 - val_acc: 0.9677\n",
            "Epoch 22/25\n",
            "272/272 [==============================] - 1s 4ms/sample - loss: 0.0021 - acc: 1.0000 - val_loss: 0.4776 - val_acc: 0.9677\n",
            "Epoch 23/25\n",
            "272/272 [==============================] - 1s 4ms/sample - loss: 0.0171 - acc: 0.9963 - val_loss: 0.3746 - val_acc: 0.8710\n",
            "Epoch 24/25\n",
            "272/272 [==============================] - 1s 4ms/sample - loss: 0.0068 - acc: 0.9963 - val_loss: 0.4333 - val_acc: 0.9677\n",
            "Epoch 25/25\n",
            "272/272 [==============================] - 1s 4ms/sample - loss: 0.0090 - acc: 0.9963 - val_loss: 0.3116 - val_acc: 0.9677\n"
          ],
          "name": "stdout"
        },
        {
          "output_type": "execute_result",
          "data": {
            "text/plain": [
              "<tensorflow.python.keras.callbacks.History at 0x7fe01f6c6c50>"
            ]
          },
          "metadata": {
            "tags": []
          },
          "execution_count": 37
        }
      ]
    },
    {
      "cell_type": "code",
      "metadata": {
        "id": "OH7fAKY8obH1",
        "colab_type": "code",
        "colab": {}
      },
      "source": [
        "model.save('good1.model')"
      ],
      "execution_count": 0,
      "outputs": []
    },
    {
      "cell_type": "code",
      "metadata": {
        "id": "Kqu91lcZobH-",
        "colab_type": "code",
        "outputId": "e7474aba-0270-4f50-a7fb-e5c0aa656850",
        "colab": {
          "base_uri": "https://localhost:8080/",
          "height": 34
        }
      },
      "source": [
        "z = cv2.imread('/content/gdrive/My Drive/Colab Notebooks/rock paper scissor/test/scissor/11.jpg')\n",
        "new_arr = np.array(z).reshape(-1, 215,240, 3)\n",
        "new_arr = tf.keras.utils.normalize(new_arr, axis=1)\n",
        "prediction=model.predict(new_arr)\n",
        "print(prediction[0])"
      ],
      "execution_count": 0,
      "outputs": [
        {
          "output_type": "stream",
          "text": [
            "[4.5600446e-10 1.9514198e-07 9.9999976e-01]\n"
          ],
          "name": "stdout"
        }
      ]
    }
  ]
}